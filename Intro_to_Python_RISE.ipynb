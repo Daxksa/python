{
 "cells": [
  {
   "cell_type": "markdown",
   "id": "1d0a8fb9",
   "metadata": {
    "slideshow": {
     "slide_type": "slide"
    }
   },
   "source": [
    "# 👋 مرحبًا بكم\n",
    "## مقدمة إلى بايثون باستخدام RISE"
   ]
  },
  {
   "cell_type": "markdown",
   "id": "c7d63955",
   "metadata": {
    "slideshow": {
     "slide_type": "slide"
    }
   },
   "source": [
    "### 📝 لماذا نستخدم بايثون؟\n",
    "- سهلة التعلم\n",
    "- لغة قوية ومتعددة الاستخدامات\n",
    "- مجتمع ضخم وأدوات كثيرة"
   ]
  },
  {
   "cell_type": "code",
   "execution_count": null,
   "id": "388467ab",
   "metadata": {
    "slideshow": {
     "slide_type": "slide"
    }
   },
   "outputs": [],
   "source": [
    "x = 7\n",
    "y = 5\n",
    "print('المجموع =', x + y)"
   ]
  },
  {
   "cell_type": "code",
   "execution_count": 2,
   "id": "5b7fb46d-930e-4f78-bab4-5e1847708011",
   "metadata": {},
   "outputs": [
    {
     "name": "stdout",
     "output_type": "stream",
     "text": [
      " 4\n"
     ]
    }
   ],
   "source": [
    "x = 4\n",
    "print(\"\",x)"
   ]
  }
 ],
 "metadata": {
  "kernelspec": {
   "display_name": "Python 3 (ipykernel)",
   "language": "python",
   "name": "python3"
  },
  "language_info": {
   "codemirror_mode": {
    "name": "ipython",
    "version": 3
   },
   "file_extension": ".py",
   "mimetype": "text/x-python",
   "name": "python",
   "nbconvert_exporter": "python",
   "pygments_lexer": "ipython3",
   "version": "3.11.4"
  },
  "rise": {
   "controls": true,
   "slideNumber": true,
   "start_slideshow_at": "beginning",
   "theme": "sky",
   "transition": "slide"
  }
 },
 "nbformat": 4,
 "nbformat_minor": 5
}
